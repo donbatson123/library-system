{
 "cells": [
  {
   "cell_type": "markdown",
   "id": "a0f001a9",
   "metadata": {},
   "source": [
    "docker-compose exec web bash\n",
    "# Then inside the container:\n",
    "python import_chromebooks.py\n"
   ]
  },
  {
   "cell_type": "markdown",
   "id": "b517337e",
   "metadata": {},
   "source": [
    "Name = name,\tBarcode Number = \tCode\tTitle\tCall No.\tBar Code\tCheckout Date\tDue Date\tItem Price"
   ]
  },
  {
   "cell_type": "markdown",
   "id": "1123a341",
   "metadata": {},
   "source": [
    "docker-compose restart db\n",
    "docker-compose exec web psql -h db -U postgres -d library\n",
    "\n"
   ]
  },
  {
   "cell_type": "markdown",
   "id": "d21fe266",
   "metadata": {},
   "source": [
    "df = pd.concat([df1, df2])\n",
    "\n",
    "df = pd.concat([df1, df2], axis=1)"
   ]
  },
  {
   "cell_type": "markdown",
   "id": "9706d608",
   "metadata": {},
   "source": [
    "ALTER TABLE table_name\n",
    "DROP COLUMN column_name;\n"
   ]
  },
  {
   "cell_type": "markdown",
   "id": "b76d81e6",
   "metadata": {},
   "source": [
    "psql -h db  -U postgres -d library"
   ]
  },
  {
   "cell_type": "markdown",
   "id": "bcae37a9",
   "metadata": {},
   "source": [
    "CREATE TABLE checkouts_devices (\n",
    "    id SERIAL PRIMARY KEY,\n",
    "    student_id INTEGER REFERENCES students(id),\n",
    "    device_id INTEGER REFERENCES devices(id),\n",
    "    checkout_date DATE,\n",
    "    return_date DATE\n",
    ");\n"
   ]
  },
  {
   "cell_type": "code",
   "execution_count": 18,
   "id": "09afe0e0",
   "metadata": {},
   "outputs": [
    {
     "name": "stdout",
     "output_type": "stream",
     "text": [
      "number of students : 489\n",
      "                    Student Name  perm_id                 staff\n",
      "0              Allan, Everett D.   101275      Baker, Elizabeth\n",
      "1          Altamirano, Amirah S.   101891       McCormack, Sara\n",
      "2         Altamirano, Sicilia A.   101892       McCormack, Sara\n",
      "3               Amiot, Kailer J.   101748  Henderson, Nathanial\n",
      "4  Anderson-Shinpaugh, Daxton T.   101612      Kadera, Carrigan\n"
     ]
    }
   ],
   "source": [
    "import pandas as pd\n",
    "\n",
    "df1 = pd.read_csv('~/Downloads/StudentsWRS.csv')\n",
    "df2 = pd.read_csv('~/Downloads/StudentsRSE.csv')\n",
    "\n",
    "df = pd.concat([df1, df2])\n",
    "\n",
    "df = df[['Student Name', 'perm_id', 'staff']]\n",
    "df.to_csv('library_students.csv', index=False)\n",
    "\n",
    "print(\"number of students :\", len(df))\n",
    "print(df.head())"
   ]
  },
  {
   "cell_type": "code",
   "execution_count": null,
   "id": "7acd9e51",
   "metadata": {},
   "outputs": [],
   "source": [
    "import pandas as pd\n",
    "\n",
    "CSV_PATH = \"/backend/chromebook.txt\"  # change if needed\n",
    "\n",
    "def clean(CSV_PATH):\n",
    "    df = pd.read_csv(CSV_PATH)\n",
    "    print(df.columns)\n",
    "    df.drop(columns=[\"Due Date\"], inplace=True)\n",
    "\n",
    "clean(CSV_PATH)"
   ]
  },
  {
   "cell_type": "markdown",
   "id": "1e0ec4b0",
   "metadata": {},
   "source": [
    "frontend/\n",
    "├── src/\n",
    "│   ├── components/\n",
    "│   │   ├── AssetList.jsx\n",
    "│   │   ├── AssetDetails.jsx\n",
    "│   │   └── AssetForm.jsx\n",
    "│   ├── pages/\n",
    "│   │   ├── AssetTracker.jsx\n",
    "│   │   ├── ViewAssets.jsx\n",
    "│   │   └── CheckoutStatus.jsx\n",
    "│   ├── services/\n",
    "│   │   └── assetService.js\n",
    "│   └── App.jsx\n",
    "└── ...\n"
   ]
  }
 ],
 "metadata": {
  "kernelspec": {
   "display_name": "Python 3",
   "language": "python",
   "name": "python3"
  },
  "language_info": {
   "codemirror_mode": {
    "name": "ipython",
    "version": 3
   },
   "file_extension": ".py",
   "mimetype": "text/x-python",
   "name": "python",
   "nbconvert_exporter": "python",
   "pygments_lexer": "ipython3",
   "version": "3.13.3"
  }
 },
 "nbformat": 4,
 "nbformat_minor": 5
}
